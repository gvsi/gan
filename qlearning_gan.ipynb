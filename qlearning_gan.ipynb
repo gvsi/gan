{
 "cells": [
  {
   "cell_type": "code",
   "execution_count": 1,
   "metadata": {},
   "outputs": [],
   "source": [
    "import numpy as np\n",
    "from json_tricks import dumps, loads\n",
    "from tqdm import tqdm\n",
    "import pandas as pd\n",
    "\n",
    "import torch\n",
    "import torch.nn.functional as nn\n",
    "import torch.autograd as autograd\n",
    "import torch.optim as optim\n",
    "import numpy as np\n",
    "import matplotlib.pyplot as plt\n",
    "import matplotlib.gridspec as gridspec\n",
    "import os\n",
    "from torch.autograd import Variable\n",
    "from sklearn.model_selection import train_test_split\n",
    "\n",
    "import pickle\n",
    "import socket\n",
    "from datetime import datetime\n",
    "import random\n",
    "\n",
    "import gym\n",
    "from gym.envs.registration import register, spec\n",
    "from gym import envs"
   ]
  },
  {
   "cell_type": "code",
   "execution_count": 2,
   "metadata": {},
   "outputs": [],
   "source": [
    "i = 0\n",
    "lines = []\n",
    "with open(\"data/data4_valid/fl4-comb-new.txt\") as f:\n",
    "    for line in f:\n",
    "        lines.append(line)"
   ]
  },
  {
   "cell_type": "code",
   "execution_count": 3,
   "metadata": {},
   "outputs": [
    {
     "name": "stderr",
     "output_type": "stream",
     "text": [
      "100%|██████████| 3828/3828 [00:18<00:00, 210.54it/s]\n"
     ]
    }
   ],
   "source": [
    "Qs = []\n",
    "str_combs = []\n",
    "alls = {}\n",
    "for i in tqdm(range(len(lines))):\n",
    "    map_str_comb, dic = lines[i].split(\"\\t\")\n",
    "    obj = loads(dic)\n",
    "    alls[map_str_comb] = obj['Q']\n",
    "    Qs.append(obj['Q'])\n",
    "    str_combs.append(map_str_comb)"
   ]
  },
  {
   "cell_type": "code",
   "execution_count": 4,
   "metadata": {},
   "outputs": [],
   "source": [
    "q_data = np.array([q.flatten() for q in Qs])"
   ]
  },
  {
   "cell_type": "code",
   "execution_count": 5,
   "metadata": {},
   "outputs": [],
   "source": [
    "X_train, X_test = train_test_split(q_data, test_size=0.10, random_state=42)\n",
    "X_train_str, X_test_str = train_test_split(str_combs, test_size=0.10, random_state=42)"
   ]
  },
  {
   "cell_type": "code",
   "execution_count": 6,
   "metadata": {},
   "outputs": [],
   "source": [
    "G_params = pickle.load(open(\"data/gan/G_params.p\", \"rb\"))\n",
    "D_params = pickle.load(open(\"data/gan/D_params.p\", \"rb\"))"
   ]
  },
  {
   "cell_type": "code",
   "execution_count": 7,
   "metadata": {},
   "outputs": [],
   "source": [
    "Wzh, bzh, Whx, bhx = G_params\n",
    "Wxh, bxh, Why, bhy = D_params"
   ]
  },
  {
   "cell_type": "code",
   "execution_count": 8,
   "metadata": {},
   "outputs": [],
   "source": [
    "mb_size = 64\n",
    "ones_label = Variable(torch.ones(mb_size))"
   ]
  },
  {
   "cell_type": "code",
   "execution_count": 9,
   "metadata": {},
   "outputs": [],
   "source": [
    "def D(X):\n",
    "    h = nn.relu(X @ Wxh + bxh.repeat(X.size(0), 1))\n",
    "    y = nn.sigmoid(h @ Why + bhy.repeat(h.size(0), 1))\n",
    "    return y"
   ]
  },
  {
   "cell_type": "code",
   "execution_count": 52,
   "metadata": {},
   "outputs": [],
   "source": [
    "def get_discriminator_score(Q):\n",
    "    if len(Q.shape) != 1:\n",
    "        Q = Q.flatten()\n",
    "    inputs = Variable(torch.from_numpy(Q).float(), requires_grad=True)\n",
    "    myD = D(inputs)\n",
    "    return myD.data.numpy()[0][0]"
   ]
  },
  {
   "cell_type": "code",
   "execution_count": 11,
   "metadata": {},
   "outputs": [],
   "source": [
    "def compute_gradients(Q):\n",
    "    if len(Q.shape) != 1:\n",
    "        Q = Q.flatten()\n",
    "    inputs = Variable(torch.from_numpy(Q).float(), requires_grad=True)\n",
    "    myD = D(inputs)\n",
    "    myD.backward(ones_label)\n",
    "    return inputs.grad.data.numpy()"
   ]
  },
  {
   "cell_type": "code",
   "execution_count": 12,
   "metadata": {},
   "outputs": [
    {
     "data": {
      "text/plain": [
       "array([ 6.6178470e+00,  2.3156791e+00,  1.1006123e+01,  3.8913767e+00,\n",
       "       -4.8738494e+00, -1.6413541e+02, -1.9151268e+02, -2.1076307e+00,\n",
       "       -1.2307057e+02, -3.4796887e+02, -2.6039380e+02, -2.7801376e+02,\n",
       "       -2.3147472e+02, -1.2923804e+02, -1.7280565e+02, -2.3142586e+00,\n",
       "       -1.6715158e+01,  4.5833797e+00,  9.3884563e+00, -1.1369167e+01,\n",
       "        8.9289188e-02,  4.8248119e+00,  1.6166460e+01, -9.2224035e+00,\n",
       "       -5.5585303e+02, -4.4512881e+02, -6.1506409e+02, -4.8284674e+02,\n",
       "        2.5551620e+01, -2.5080652e+00, -1.1572298e+02, -4.1964989e+00,\n",
       "        5.6630039e+00,  6.0115285e+00,  8.1801243e+00, -1.3001225e+01,\n",
       "       -3.9688385e+02, -2.2702179e+01, -4.8363333e+02, -3.8718655e+02,\n",
       "       -3.6447017e+00,  1.4099720e+01,  8.5110073e+00,  4.6459680e+00,\n",
       "       -2.5905064e+01, -4.2749836e+01, -4.1083847e+01, -3.7468395e+01,\n",
       "       -1.1202987e+01, -1.2584569e+02, -1.1334032e+02, -9.2926895e+01,\n",
       "       -1.3339740e+01, -4.3199222e+02, -2.9518405e+02, -2.7643057e+02,\n",
       "       -4.5138683e+01, -4.4933834e+01, -4.2808357e+01, -4.3102951e+01,\n",
       "       -1.1586980e+02, -1.3613075e+02, -1.2886705e+02, -1.4029156e+02],\n",
       "      dtype=float32)"
      ]
     },
     "execution_count": 12,
     "metadata": {},
     "output_type": "execute_result"
    }
   ],
   "source": [
    "compute_gradients(np.zeros(64))"
   ]
  },
  {
   "cell_type": "code",
   "execution_count": null,
   "metadata": {},
   "outputs": [],
   "source": []
  },
  {
   "cell_type": "code",
   "execution_count": 13,
   "metadata": {},
   "outputs": [
    {
     "data": {
      "text/plain": [
       "'SHHFFFFFHFHFFFHG'"
      ]
     },
     "execution_count": 13,
     "metadata": {},
     "output_type": "execute_result"
    }
   ],
   "source": [
    "X_test_str[68]"
   ]
  },
  {
   "cell_type": "code",
   "execution_count": 14,
   "metadata": {},
   "outputs": [],
   "source": [
    "def new_env(env_map, slippery=True, MY_ENV_NAME='FrozenLakeNonskid-v0'):\n",
    "    if MY_ENV_NAME in envs.registry.env_specs:\n",
    "        envs.registry.env_specs.pop(MY_ENV_NAME)\n",
    "\n",
    "    register(\n",
    "        id=MY_ENV_NAME,\n",
    "        entry_point='gym.envs.toy_text:FrozenLakeEnv',\n",
    "        kwargs={'is_slippery': slippery, 'desc': env_map},\n",
    "        max_episode_steps=100,\n",
    "        reward_threshold=0.78, # optimum = .8196\n",
    "    )\n",
    "    env = gym.make(MY_ENV_NAME)\n",
    "    return env"
   ]
  },
  {
   "cell_type": "code",
   "execution_count": 15,
   "metadata": {},
   "outputs": [],
   "source": [
    "def verify(env, Q, num_episodes = 10000):\n",
    "    print(\"Running validation...\")\n",
    "    # Set learning parameters\n",
    "    #create lists to contain total rewards and steps per episode\n",
    "    #jList = []\n",
    "    rList = []\n",
    "    successes = 0\n",
    "    jTot = 0\n",
    "    for i in tqdm(range(num_episodes)):\n",
    "        #Reset environment and get first new observation\n",
    "        s = env.reset()\n",
    "        rAll = 0\n",
    "        d = False\n",
    "        j = 0\n",
    "        #The Q-Table learning algorithm\n",
    "        while j < 200:\n",
    "            j+=1\n",
    "            #Choose an action by greedily (with noise) picking from Q table\n",
    "            a = np.argmax(Q[s,:])\n",
    "            #Get new state and reward from environment\n",
    "            s1,r,d,_ = env.step(a)\n",
    "            rAll += r\n",
    "            s = s1\n",
    "            if d == True and r > 0:\n",
    "                jTot += j\n",
    "                successes += 1\n",
    "            if d == True:\n",
    "                break\n",
    "        rList.append(rAll)\n",
    "    print(\"Score over time: \" +  str(sum(rList)/num_episodes))\n",
    "    valid_score = sum(rList)/num_episodes\n",
    "    try:\n",
    "        avg_steps = jTot / successes\n",
    "    except:\n",
    "        avg_steps = 0\n",
    "    return valid_score, avg_steps"
   ]
  },
  {
   "cell_type": "code",
   "execution_count": 63,
   "metadata": {},
   "outputs": [],
   "source": [
    "class Experiment(object):\n",
    "    def __init__(self, env, num_episodes=10000):\n",
    "        self.env = env\n",
    "        self.Q = np.zeros([self.env.observation_space.n, self.env.action_space.n])\n",
    "        self.machine = socket.gethostname()\n",
    "        self.num_episodes = num_episodes\n",
    "        self.done = False\n",
    "        self.score = None\n",
    "        self.start = None\n",
    "        self.end = None\n",
    "        self.train_successes = []\n",
    "        self.valid_score = None\n",
    "        self.valid_avg_steps = None\n",
    "\n",
    "    def print_score(self):\n",
    "        if not self.done:\n",
    "            print(\"Run first.\")\n",
    "            return\n",
    "        print(\"Score over time: \" +  str(self.score))\n",
    "\n",
    "    def run(self):\n",
    "        print(\"Running experiment...\")\n",
    "        if self.done:\n",
    "            print(\"Already done running\")\n",
    "            return\n",
    "\n",
    "        self.start = datetime.now()\n",
    "        lr = .8\n",
    "        lr_gan = 0.0001\n",
    "        e = 0.1\n",
    "        y = .95\n",
    "        #create lists to contain total rewards and steps per episode\n",
    "        jList = []\n",
    "        rList = []\n",
    "        for i in tqdm(range(self.num_episodes)):\n",
    "            #Reset environment and get first new observation\n",
    "            s = self.env.reset()\n",
    "            rAll = 0\n",
    "            d = False\n",
    "            j = 0\n",
    "            #The Q-Table learning algorithm\n",
    "            while j < 200:\n",
    "                j+=1\n",
    "                #Choose an action by greedily (with noise) picking from Q table\n",
    "                a = None\n",
    "                if random.uniform(0,1) < e:\n",
    "                    a = self.env.action_space.sample()\n",
    "                else:\n",
    "                    a = np.argmax(self.Q[s,:])\n",
    "                #Get new state and reward from environment\n",
    "                s1,r,d,_ = self.env.step(a)\n",
    "                if d == True and r != 1:\n",
    "                    self.Q[s, a] -= 0.01\n",
    "                #Update Q-Table with new knowledge\n",
    "                if i < 100:\n",
    "                    self.Q[s,a] = self.Q[s,a] + lr*(r + y*np.max(self.Q[s1,:]) - self.Q[s,a])\n",
    "                else:\n",
    "                    old_Q = self.Q\n",
    "                    old_Q[s,a] = self.Q[s,a] + lr*(r + y*np.max(self.Q[s1,:]) - self.Q[s,a])\n",
    "                    self.Q[s,a] = self.Q[s,a] + get_discriminator_score(old_Q)*(r + y*np.max(self.Q[s1,:]) - self.Q[s,a])\n",
    "#                     self.Q += lr_gan * compute_gradients(self.Q).reshape((self.env.observation_space.n, self.env.action_space.n))\n",
    "                rAll += r\n",
    "                s = s1\n",
    "                if d == True and r > 0:\n",
    "                    self.train_successes.append((i, j))\n",
    "                if d == True:\n",
    "                    #Reduce chance of random action as we train the model.\n",
    "        #             e = 1./((i/50) + 10)\n",
    "                    break\n",
    "            rList.append(rAll)\n",
    "        self.done = True\n",
    "        self.end = datetime.now()\n",
    "        self.score = sum(rList)/self.num_episodes\n",
    "\n",
    "    def validate(self):\n",
    "        valid_score, avg_steps = verify(self.env, self.Q)\n",
    "        self.valid_score = valid_score\n",
    "        self.valid_avg_steps = avg_steps\n",
    "\n",
    "    def dumps(self):\n",
    "        if not self.done:\n",
    "            print(\"Run first.\")\n",
    "            return\n",
    "\n",
    "        return dumps({'Q': self.Q,\n",
    "                      'start': self.start,\n",
    "                      'end': self.end,\n",
    "                      'train_score': self.score,\n",
    "                      'num_episodes': self.num_episodes,\n",
    "                      'train_successes': exp.train_successes,\n",
    "                      'train_machine' : self.machine,\n",
    "                      'valid_score' : self.valid_score,\n",
    "                      'valid_avg_steps' : self.valid_avg_steps\n",
    "                      })"
   ]
  },
  {
   "cell_type": "code",
   "execution_count": 64,
   "metadata": {},
   "outputs": [
    {
     "data": {
      "text/plain": [
       "array([ 4.62240553e-03,  4.31437450e-03, -2.33870470e-03,  3.74752092e-03,\n",
       "        0.00000000e+00,  0.00000000e+00,  0.00000000e+00,  0.00000000e+00,\n",
       "        0.00000000e+00,  0.00000000e+00,  0.00000000e+00,  0.00000000e+00,\n",
       "        8.91780049e-02,  9.13978974e-02,  5.25127297e-01,  9.80571834e-02,\n",
       "       -2.16989194e-03,  4.03071899e-03, -2.36852114e-03,  5.07422256e-03,\n",
       "       -2.30912262e-03,  1.62971750e-03, -1.93540372e-03, -2.42599219e-03,\n",
       "       -4.77791292e-04, -2.13473235e-03, -2.37695324e-03,  7.28273883e-03,\n",
       "        4.37929946e-01,  3.86158178e-01,  4.44891241e-01,  4.62239161e-01,\n",
       "        0.00000000e+00,  0.00000000e+00,  0.00000000e+00,  0.00000000e+00,\n",
       "       -2.49928851e-03, -2.49997461e-03, -1.85499096e-03, -2.49837232e-03,\n",
       "        0.00000000e+00,  0.00000000e+00,  0.00000000e+00,  0.00000000e+00,\n",
       "        1.21015951e-01,  1.65579077e-01,  9.12124093e-01,  1.44932507e-01,\n",
       "       -1.88222420e-03,  2.35862519e-03, -2.46013756e-03,  6.40087950e-04,\n",
       "        5.94481094e-03, -1.67879224e-03,  1.18139585e-03, -4.82992033e-04,\n",
       "        0.00000000e+00,  0.00000000e+00,  0.00000000e+00,  0.00000000e+00,\n",
       "        0.00000000e+00,  0.00000000e+00,  0.00000000e+00,  0.00000000e+00])"
      ]
     },
     "execution_count": 64,
     "metadata": {},
     "output_type": "execute_result"
    }
   ],
   "source": [
    "X_test[68]"
   ]
  },
  {
   "cell_type": "code",
   "execution_count": 65,
   "metadata": {},
   "outputs": [
    {
     "data": {
      "text/plain": [
       "0.67332566"
      ]
     },
     "execution_count": 65,
     "metadata": {},
     "output_type": "execute_result"
    }
   ],
   "source": [
    "get_discriminator_score(X_test[57])"
   ]
  },
  {
   "cell_type": "code",
   "execution_count": 94,
   "metadata": {},
   "outputs": [
    {
     "data": {
      "text/plain": [
       "'SHFHFFFHHFFFFHHG'"
      ]
     },
     "execution_count": 94,
     "metadata": {},
     "output_type": "execute_result"
    }
   ],
   "source": [
    "X_test_str[57]"
   ]
  },
  {
   "cell_type": "code",
   "execution_count": 92,
   "metadata": {},
   "outputs": [],
   "source": [
    "line = X_test_str[57]\n",
    "n = 4\n",
    "map_str_split = [line[i:i+n] for i in range(0, len(line), n)]\n",
    "env = new_env(map_str_split)"
   ]
  },
  {
   "cell_type": "code",
   "execution_count": 93,
   "metadata": {},
   "outputs": [
    {
     "name": "stderr",
     "output_type": "stream",
     "text": [
      "  2%|▏         | 191/10000 [00:00<00:10, 945.00it/s] "
     ]
    },
    {
     "name": "stdout",
     "output_type": "stream",
     "text": [
      "\n",
      "\u001b[41mS\u001b[0mHFH\n",
      "FFFH\n",
      "HFFF\n",
      "FHHG\n",
      "Running experiment...\n"
     ]
    },
    {
     "name": "stderr",
     "output_type": "stream",
     "text": [
      "100%|██████████| 10000/10000 [00:20<00:00, 480.40it/s]\n"
     ]
    }
   ],
   "source": [
    "env.render()\n",
    "exp = Experiment(env, num_episodes=10000)\n",
    "exp.run()"
   ]
  },
  {
   "cell_type": "code",
   "execution_count": 95,
   "metadata": {},
   "outputs": [
    {
     "data": {
      "text/plain": [
       "array([[ 5.04949619e-03,  6.48902020e-02,  1.68409139e-03,\n",
       "        -1.20491772e-03],\n",
       "       [ 0.00000000e+00,  0.00000000e+00,  0.00000000e+00,\n",
       "         0.00000000e+00],\n",
       "       [-3.86584225e-05, -1.44274914e-03, -2.17626578e-03,\n",
       "        -1.64336998e-03],\n",
       "       [ 0.00000000e+00,  0.00000000e+00,  0.00000000e+00,\n",
       "         0.00000000e+00],\n",
       "       [-5.25038836e-04,  8.67442862e-06, -5.67466913e-05,\n",
       "         2.95894917e-03],\n",
       "       [ 1.53147373e-03, -1.12053215e-06,  4.49361570e-04,\n",
       "        -2.24740520e-04],\n",
       "       [-4.88909580e-04,  8.65362662e-02, -8.60329042e-05,\n",
       "        -2.28787484e-04],\n",
       "       [ 0.00000000e+00,  0.00000000e+00,  0.00000000e+00,\n",
       "         0.00000000e+00],\n",
       "       [ 0.00000000e+00,  0.00000000e+00,  0.00000000e+00,\n",
       "         0.00000000e+00],\n",
       "       [-7.34219925e-04, -2.10985283e-04, -3.82005394e-05,\n",
       "        -1.81824085e-03],\n",
       "       [-5.57266216e-04, -8.97482050e-05, -2.43237558e-04,\n",
       "         5.57537192e-01],\n",
       "       [ 1.18679819e-01,  9.95622427e-01,  5.68333696e-03,\n",
       "         7.14744346e-02],\n",
       "       [ 0.00000000e+00,  0.00000000e+00,  0.00000000e+00,\n",
       "         0.00000000e+00],\n",
       "       [ 0.00000000e+00,  0.00000000e+00,  0.00000000e+00,\n",
       "         0.00000000e+00],\n",
       "       [ 0.00000000e+00,  0.00000000e+00,  0.00000000e+00,\n",
       "         0.00000000e+00],\n",
       "       [ 0.00000000e+00,  0.00000000e+00,  0.00000000e+00,\n",
       "         0.00000000e+00]])"
      ]
     },
     "execution_count": 95,
     "metadata": {},
     "output_type": "execute_result"
    }
   ],
   "source": [
    "exp.Q"
   ]
  },
  {
   "cell_type": "code",
   "execution_count": 96,
   "metadata": {},
   "outputs": [
    {
     "data": {
      "text/plain": [
       "<matplotlib.image.AxesImage at 0x1a2950e908>"
      ]
     },
     "execution_count": 96,
     "metadata": {},
     "output_type": "execute_result"
    },
    {
     "data": {
      "image/png": "[encoded data removed]",
      "text/plain": [
       "<matplotlib.figure.Figure at 0x1a29239438>"
      ]
     },
     "metadata": {},
     "output_type": "display_data"
    }
   ],
   "source": [
    "plt.matshow(exp.Q, cmap='Greys_r')"
   ]
  },
  {
   "cell_type": "code",
   "execution_count": 97,
   "metadata": {},
   "outputs": [
    {
     "data": {
      "text/plain": [
       "0.0332"
      ]
     },
     "execution_count": 97,
     "metadata": {},
     "output_type": "execute_result"
    }
   ],
   "source": [
    "exp.score"
   ]
  },
  {
   "cell_type": "code",
   "execution_count": 98,
   "metadata": {},
   "outputs": [
    {
     "name": "stderr",
     "output_type": "stream",
     "text": [
      " 33%|███▎      | 3330/10000 [00:00<00:00, 16639.52it/s]"
     ]
    },
    {
     "name": "stdout",
     "output_type": "stream",
     "text": [
      "Running validation...\n"
     ]
    },
    {
     "name": "stderr",
     "output_type": "stream",
     "text": [
      "100%|██████████| 10000/10000 [00:00<00:00, 16813.96it/s]"
     ]
    },
    {
     "name": "stdout",
     "output_type": "stream",
     "text": [
      "Score over time: 0.0135\n"
     ]
    },
    {
     "name": "stderr",
     "output_type": "stream",
     "text": [
      "\n"
     ]
    }
   ],
   "source": [
    "exp.validate()"
   ]
  },
  {
   "cell_type": "code",
   "execution_count": null,
   "metadata": {},
   "outputs": [],
   "source": []
  }
 ],
 "metadata": {
  "kernelspec": {
   "display_name": "Python (gan)",
   "language": "python",
   "name": "gan"
  },
  "language_info": {
   "codemirror_mode": {
    "name": "ipython",
    "version": 3
   },
   "file_extension": ".py",
   "mimetype": "text/x-python",
   "name": "python",
   "nbconvert_exporter": "python",
   "pygments_lexer": "ipython3",
   "version": "3.6.4"
  }
 },
 "nbformat": 4,
 "nbformat_minor": 2
}
