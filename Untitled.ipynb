{
 "cells": [
  {
   "cell_type": "code",
   "execution_count": 1,
   "metadata": {},
   "outputs": [],
   "source": [
    "import gym\n",
    "import numpy as np \n",
    "import torch\n",
    "from torch import nn\n",
    "from torch.autograd import Variable\n",
    "from torch import optim\n",
    "from torch.nn import functional as F\n",
    "import matplotlib.pyplot as plt\n",
    "from tqdm import tqdm\n",
    "%matplotlib inline"
   ]
  },
  {
   "cell_type": "code",
   "execution_count": 2,
   "metadata": {},
   "outputs": [],
   "source": [
    "def one_hot(ids, nb_digits):\n",
    "    \"\"\"\n",
    "    ids: (list, ndarray) shape:[batch_size]\n",
    "    \"\"\"\n",
    "    if not isinstance(ids, (list, np.ndarray)):\n",
    "        raise ValueError(\"ids must be 1-D list or array\")\n",
    "    batch_size = len(ids)\n",
    "    ids = torch.cuda.LongTensor(ids).view(batch_size, 1)\n",
    "    out_tensor = Variable(torch.cuda.FloatTensor(batch_size, nb_digits))\n",
    "    out_tensor.data.zero_()\n",
    "    out_tensor.data.scatter_(dim=1, index=ids, value=1.)\n",
    "    return out_tensor\n",
    "\n",
    "def uniform_linear_layer(linear_layer):\n",
    "    linear_layer.weight.data.uniform_()\n",
    "    linear_layer.bias.data.fill_(-0.02)"
   ]
  },
  {
   "cell_type": "code",
   "execution_count": 3,
   "metadata": {},
   "outputs": [
    {
     "name": "stderr",
     "output_type": "stream",
     "text": [
      "[2018-01-23 13:48:56,377] Making new env: FrozenLake-v0\n"
     ]
    }
   ],
   "source": [
    "lake = gym.make('FrozenLake-v0')"
   ]
  },
  {
   "cell_type": "code",
   "execution_count": 4,
   "metadata": {},
   "outputs": [
    {
     "name": "stderr",
     "output_type": "stream",
     "text": [
      "[2018-01-23 13:49:27,948] Making new env: FrozenLake-v0\n"
     ]
    },
    {
     "name": "stdout",
     "output_type": "stream",
     "text": [
      "\n",
      "\u001b[41mS\u001b[0mFFF\n",
      "FHFH\n",
      "FFFH\n",
      "HFFG\n"
     ]
    }
   ],
   "source": [
    "lake = gym.make('FrozenLake-v0')\n",
    "lake.reset()\n",
    "lake.render()\n",
    "# lake.step(1)\n",
    "# lake.render()"
   ]
  },
  {
   "cell_type": "code",
   "execution_count": 5,
   "metadata": {},
   "outputs": [],
   "source": [
    "class Agent(nn.Module):\n",
    "    def __init__(self, observation_space_size, action_space_size):\n",
    "        super(Agent, self).__init__()\n",
    "        self.observation_space_size = observation_space_size\n",
    "        self.hidden_size = observation_space_size\n",
    "        self.l1 = nn.Linear(in_features=observation_space_size, out_features=self.hidden_size).cuda()\n",
    "        self.l2 = nn.Linear(in_features=self.hidden_size, out_features=action_space_size).cuda()\n",
    "        uniform_linear_layer(self.l1)\n",
    "        uniform_linear_layer(self.l2)\n",
    "    \n",
    "    def forward(self, state):\n",
    "        obs_emb = one_hot([int(state)], self.observation_space_size)\n",
    "        out1 = F.sigmoid(self.l1(obs_emb))\n",
    "        return self.l2(out1).view((-1)) # 1 x ACTION_SPACE_SIZE == 1 x 4  =>  4"
   ]
  },
  {
   "cell_type": "code",
   "execution_count": 7,
   "metadata": {},
   "outputs": [],
   "source": [
    "class Trainer:\n",
    "    def __init__(self):\n",
    "        self.agent = Agent(lake.observation_space.n, lake.action_space.n)\n",
    "        self.optimizer = optim.Adam(params=self.agent.parameters())\n",
    "        self.success = []\n",
    "        self.jList = []\n",
    "    \n",
    "    def train(self, epoch):\n",
    "        for i in tqdm(range(epoch)):\n",
    "            s = lake.reset()\n",
    "            j = 0\n",
    "            while j < 200:\n",
    "                \n",
    "                # perform chosen action\n",
    "                a = self.choose_action(s)\n",
    "                s1, r, d, _ = lake.step(a)\n",
    "                if d == True and r == 0: r = -1\n",
    "                \n",
    "                # calculate target and loss\n",
    "                target_q = r + 0.99 * torch.max(self.agent(s1).detach()) # detach from the computing flow\n",
    "                loss = F.smooth_l1_loss(self.agent(s)[a], target_q)\n",
    "                \n",
    "                # update model to optimize Q\n",
    "                self.optimizer.zero_grad()\n",
    "                loss.backward()\n",
    "                self.optimizer.step()\n",
    "                \n",
    "                # update state\n",
    "                s = s1\n",
    "                j += 1\n",
    "                if d == True: break\n",
    "            \n",
    "            # append results onto report lists\n",
    "            if d == True and r > 0:\n",
    "                self.success.append(1)\n",
    "            else:\n",
    "                self.success.append(0)\n",
    "            self.jList.append(j)\n",
    "        print(\"last 100 epoches success rate: \" + str(sum(self.success[-100:])) + \"%\")\n",
    "\n",
    "    def choose_action(self, s):\n",
    "        if (np.random.rand(1) < 0.1): \n",
    "            return lake.action_space.sample()\n",
    "        else:\n",
    "            agent_out = self.agent(s).detach()\n",
    "#             print(\"s: \" + str(s))\n",
    "#             print(self.agent(s))\n",
    "#             print(self.agent.forward(s))\n",
    "            _, max_index = torch.max(agent_out, 0)\n",
    "            return max_index.data.cpu().numpy()[0]"
   ]
  },
  {
   "cell_type": "code",
   "execution_count": 8,
   "metadata": {},
   "outputs": [
    {
     "name": "stderr",
     "output_type": "stream",
     "text": [
      "100%|██████████| 2000/2000 [02:43<00:00, 12.20it/s]"
     ]
    },
    {
     "name": "stdout",
     "output_type": "stream",
     "text": [
      "last 100 epoches success rate: 30%\n"
     ]
    },
    {
     "name": "stderr",
     "output_type": "stream",
     "text": [
      "\n"
     ]
    }
   ],
   "source": [
    "t = Trainer()\n",
    "t.train(2000)"
   ]
  },
  {
   "cell_type": "code",
   "execution_count": 8,
   "metadata": {},
   "outputs": [
    {
     "data": {
      "text/plain": [
       "25"
      ]
     },
     "execution_count": 8,
     "metadata": {},
     "output_type": "execute_result"
    }
   ],
   "source": [
    "sum(t.success[-100:])"
   ]
  },
  {
   "cell_type": "code",
   "execution_count": 9,
   "metadata": {},
   "outputs": [
    {
     "data": {
      "text/plain": [
       "Parameter containing:\n",
       "\n",
       "Columns 0 to 9 \n",
       " 0.7423 -0.3557  0.0710 -0.1783  0.5162  0.6724  0.0488  0.6868  0.2366  0.8622\n",
       " 0.3130  0.2385  0.3504  0.0446 -0.0737  0.7004 -0.3870  0.5396  0.6313  0.8582\n",
       " 0.1951  0.4983  0.1643  0.4734  1.0127  0.7690  0.6937  0.0357 -0.0444  0.6728\n",
       " 0.1644  0.4600  0.3233  0.0913  0.7077  0.0815  1.0353  0.3363  0.3254  0.1934\n",
       " 0.0837  0.0125  0.4990  0.3654  0.3342  0.1007  0.1168  0.9566 -0.0481  1.1108\n",
       "-0.3572  0.1324  0.0055  0.3420 -0.4731  0.4924  0.8744  0.3643  0.5987  0.7327\n",
       "-0.6579  0.9036  0.2980  1.0796  0.3269  0.7730  1.6167  0.3642  0.4722  0.2677\n",
       "-0.1340 -0.4073  0.3173  0.1615  0.0344  0.3560  0.8031  0.0623 -0.3421 -0.1835\n",
       " 0.1729  0.1236  0.6371  0.4363 -0.1595  0.9928 -0.1705  0.8178  0.2752 -0.3956\n",
       " 0.4530  0.5539  0.0290 -0.0185  0.0071  0.2686 -0.2819  0.3291  0.4311  0.1830\n",
       " 0.3114  0.4098  0.2487  0.5311  0.6061  0.8223 -0.0979  0.8103  0.3167 -0.3426\n",
       "-0.2285  0.2757 -0.0500  0.3170  0.1526  0.3480  0.7339  0.1567  0.4384 -0.0597\n",
       " 0.3519  0.3976  0.4922 -0.2531  0.6266  0.1796  0.0661  0.8797 -0.1227  0.8853\n",
       " 0.1408  0.6824  0.1533  0.3367  0.0907  0.8614  0.2244  0.7616  0.2259  0.8644\n",
       "-0.0127  0.4539  0.7009  0.8908 -0.3305  0.4052  0.0596  0.4348  0.9120  0.5578\n",
       " 0.3429 -0.3139  0.0235 -0.1427  0.5937  0.5504 -0.3433  0.6202  0.2398 -0.2038\n",
       "\n",
       "Columns 10 to 15 \n",
       " 0.3394  0.4224  0.8268  0.8763  0.5250  0.9663\n",
       "-0.1202  0.7921  0.5561  1.1349  1.0235  0.0197\n",
       " 1.1987  0.3297  0.4467 -0.0080  0.0397  0.8558\n",
       " 0.4586  0.5848  0.7678  1.1355  0.1983  0.5956\n",
       " 1.0878  0.7294  0.2940 -0.2726  0.1640  0.0053\n",
       " 0.5553  0.5205  0.1331  0.8879  0.5352  0.8320\n",
       " 0.1159  0.4602  0.7150  0.6197 -0.0200  0.4829\n",
       " 0.3250  0.0279  0.0529  0.5762 -0.2700  0.2214\n",
       " 0.5783  0.4678  0.0162  0.4066  0.5812  0.7995\n",
       " 0.0331  0.2742  0.5350  0.7927  1.2728  0.5601\n",
       " 0.3538  0.7316  0.9443 -0.2987  0.4902  0.0435\n",
       " 0.2739  0.3288  0.8241 -0.2435  0.2862  0.6836\n",
       " 1.1900  0.1476  0.5255  0.5874  0.2263  0.2007\n",
       " 0.0249  0.6121  0.9651  0.8269  0.8833  0.0920\n",
       "-0.6936  0.4786  0.7617  0.1833  1.0776  0.8176\n",
       " 0.2075  0.0510  0.1579  0.4955  0.8842  0.6872\n",
       "[torch.cuda.FloatTensor of size 16x16 (GPU 0)]"
      ]
     },
     "execution_count": 9,
     "metadata": {},
     "output_type": "execute_result"
    }
   ],
   "source": [
    "t.agent.l1.weight"
   ]
  },
  {
   "cell_type": "code",
   "execution_count": 20,
   "metadata": {},
   "outputs": [
    {
     "name": "stdout",
     "output_type": "stream",
     "text": [
      "\n",
      "\u001b[41mS\u001b[0mFFF\n",
      "FHFH\n",
      "FFFH\n",
      "HFFG\n"
     ]
    }
   ],
   "source": [
    "lake2 = gym.make('FrozenLake-v0')\n",
    "lake2.seed(4)\n",
    "# lake2.reset()\n",
    "lake2.render()\n"
   ]
  },
  {
   "cell_type": "code",
   "execution_count": null,
   "metadata": {},
   "outputs": [],
   "source": []
  }
 ],
 "metadata": {
  "kernelspec": {
   "display_name": "Python [conda env:gan]",
   "language": "python",
   "name": "conda-env-gan-py"
  },
  "language_info": {
   "codemirror_mode": {
    "name": "ipython",
    "version": 3
   },
   "file_extension": ".py",
   "mimetype": "text/x-python",
   "name": "python",
   "nbconvert_exporter": "python",
   "pygments_lexer": "ipython3",
   "version": "3.5.4"
  }
 },
 "nbformat": 4,
 "nbformat_minor": 2
}
