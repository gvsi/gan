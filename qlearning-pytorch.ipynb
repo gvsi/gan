{
 "cells": [
  {
   "cell_type": "code",
   "execution_count": null,
   "metadata": {},
   "outputs": [],
   "source": [
    "import gym\n",
    "import numpy as np \n",
    "import torch\n",
    "from torch import nn\n",
    "from torch.autograd import Variable\n",
    "from torch import optim\n",
    "from torch.nn import functional as F\n",
    "import matplotlib.pyplot as plt\n",
    "%matplotlib inline"
   ]
  },
  {
   "cell_type": "code",
   "execution_count": null,
   "metadata": {},
   "outputs": [],
   "source": [
    "import random\n",
    "def generate(size=8, p=None):\n",
    "    if p == None or p == 0:\n",
    "        p = random.uniform(0.1, 1)\n",
    "    valid = False\n",
    "    def is_valid(arr, r=0, c=0):\n",
    "        if arr[r][c] == 'G':\n",
    "            return True\n",
    "        \n",
    "        tmp = arr[r][c]\n",
    "        arr[r][c] = \"#\"\n",
    "        \n",
    "        if r+1 < size and arr[r+1][c] not in '#H':\n",
    "            if is_valid(arr, r+1, c) == True:\n",
    "                arr[r][c] = tmp\n",
    "                return True\n",
    "        \n",
    "        if c+1 < size and arr[r][c+1] not in '#H':\n",
    "            if is_valid(arr, r, c+1) == True:\n",
    "                arr[r][c] = tmp\n",
    "                return True\n",
    "        \n",
    "        if r-1 >= 0 and arr[r-1][c] not in '#H':\n",
    "            if is_valid(arr, r-1, c) == True:\n",
    "                arr[r][c] = tmp\n",
    "                return True\n",
    "        \n",
    "        if c-1 >= 0 and arr[r][c-1] not in '#H':\n",
    "            if is_valid(arr,r, c-1) == True:\n",
    "                arr[r][c] = tmp\n",
    "                return True\n",
    "        arr[r][c] = tmp\n",
    "        return False\n",
    "\n",
    "    while not valid:\n",
    "        p = min(1, p)\n",
    "        res = np.random.choice(['F','H'], (size, size), p=[p, 1-p])\n",
    "        res[0][0] = 'S'\n",
    "        res[-1][-1] = 'G'\n",
    "        valid = is_valid(res)\n",
    "        p *= 1.1\n",
    "    return [\"\".join(x) for x in res]"
   ]
  },
  {
   "cell_type": "code",
   "execution_count": null,
   "metadata": {},
   "outputs": [],
   "source": [
    "def one_hot(ids, nb_digits):\n",
    "    \"\"\"\n",
    "    ids: (list, ndarray) shape:[batch_size]\n",
    "    \"\"\"\n",
    "    if not isinstance(ids, (list, np.ndarray)):\n",
    "        raise ValueError(\"ids must be 1-D list or array\")\n",
    "    batch_size = len(ids)\n",
    "    ids = torch.LongTensor(ids).view(batch_size, 1)\n",
    "    out_tensor = Variable(torch.FloatTensor(batch_size, nb_digits))\n",
    "    out_tensor.data.zero_()\n",
    "    out_tensor.data.scatter_(dim=1, index=ids, value=1.)\n",
    "    return out_tensor\n",
    "\n",
    "def uniform_linear_layer(linear_layer):\n",
    "    linear_layer.weight.data.uniform_()\n",
    "    linear_layer.bias.data.fill_(-0.02)"
   ]
  },
  {
   "cell_type": "code",
   "execution_count": 3,
   "metadata": {},
   "outputs": [
    {
     "name": "stderr",
     "output_type": "stream",
     "text": [
      "[2018-01-20 15:56:13,679] Making new env: FrozenLake-v0\n"
     ]
    }
   ],
   "source": [
    "# lake = gym.make('FrozenLake-v0')\n",
    "lake = generate(4)"
   ]
  },
  {
   "cell_type": "code",
   "execution_count": 4,
   "metadata": {},
   "outputs": [],
   "source": [
    "class Agent(nn.Module):\n",
    "    def __init__(self, observation_space_size, action_space_size):\n",
    "        super(Agent, self).__init__()\n",
    "        self.observation_space_size = observation_space_size\n",
    "        self.hidden_size = observation_space_size\n",
    "        self.l1 = nn.Linear(in_features=observation_space_size, out_features=self.hidden_size)\n",
    "        self.l2 = nn.Linear(in_features=self.hidden_size, out_features=action_space_size)\n",
    "        uniform_linear_layer(self.l1)\n",
    "        uniform_linear_layer(self.l2)\n",
    "    \n",
    "    def forward(self, state):\n",
    "        obs_emb = one_hot([int(state)], self.observation_space_size)\n",
    "        out1 = F.sigmoid(self.l1(obs_emb))\n",
    "        return self.l2(out1).view((-1)) # 1 x ACTION_SPACE_SIZE == 1 x 4  =>  4"
   ]
  },
  {
   "cell_type": "code",
   "execution_count": 5,
   "metadata": {},
   "outputs": [],
   "source": [
    "class Trainer:\n",
    "    def __init__(self):\n",
    "        self.agent = Agent(lake.observation_space.n, lake.action_space.n)\n",
    "        self.optimizer = optim.Adam(params=self.agent.parameters())\n",
    "        self.success = []\n",
    "        self.jList = []\n",
    "    \n",
    "    def train(self, epoch):\n",
    "        for i in range(epoch):\n",
    "            s = lake.reset()\n",
    "            j = 0\n",
    "            while j < 200:\n",
    "                \n",
    "                # perform chosen action\n",
    "                a = self.choose_action(s)\n",
    "                s1, r, d, _ = lake.step(a)\n",
    "                if d == True and r == 0: r = -1\n",
    "                \n",
    "                # calculate target and loss\n",
    "                target_q = r + 0.99 * torch.max(self.agent(s1).detach()) # detach from the computing flow\n",
    "                loss = F.smooth_l1_loss(self.agent(s)[a], target_q)\n",
    "                \n",
    "                # update model to optimize Q\n",
    "                self.optimizer.zero_grad()\n",
    "                loss.backward()\n",
    "                self.optimizer.step()\n",
    "                \n",
    "                # update state\n",
    "                s = s1\n",
    "                j += 1\n",
    "                if d == True: break\n",
    "            \n",
    "            # append results onto report lists\n",
    "            if d == True and r > 0:\n",
    "                self.success.append(1)\n",
    "            else:\n",
    "                self.success.append(0)\n",
    "            self.jList.append(j)\n",
    "        print(\"last 100 epoches success rate: \" + str(sum(self.success[-100:])) + \"%\")\n",
    "\n",
    "    def choose_action(self, s):\n",
    "        if (np.random.rand(1) < 0.1): \n",
    "            return lake.action_space.sample()\n",
    "        else:\n",
    "            agent_out = self.agent(s).detach()\n",
    "            _, max_index = torch.max(agent_out, 0)\n",
    "            return max_index.data.numpy()[0]"
   ]
  },
  {
   "cell_type": "code",
   "execution_count": 6,
   "metadata": {},
   "outputs": [
    {
     "name": "stdout",
     "output_type": "stream",
     "text": [
      "last 100 epoches success rate: 33%\n"
     ]
    }
   ],
   "source": [
    "t = Trainer()\n",
    "t.train(2000)"
   ]
  },
  {
   "cell_type": "code",
   "execution_count": 19,
   "metadata": {},
   "outputs": [
    {
     "data": {
      "text/plain": [
       "Parameter containing:\n",
       "\n",
       "Columns 0 to 9 \n",
       "-0.0432 -0.0276  0.5012  0.2761 -0.2207  0.4896  0.5948 -0.1860 -0.2294 -0.0896\n",
       "-0.3062 -0.1764  0.6025  0.3882 -0.2758  0.4798  0.1217  0.7973  0.0417 -0.2815\n",
       "-0.1985  0.2487  0.0153 -0.3652  0.6703  0.0448 -0.0394  0.5981  0.6360 -0.3731\n",
       " 0.2278  0.1463 -0.0798 -0.1995  0.3256  0.6826 -0.1278  0.0376  0.4560 -0.3958\n",
       "\n",
       "Columns 10 to 15 \n",
       " 0.1483  0.5209 -0.2749  0.5598  0.5894  0.3385\n",
       " 0.5207  0.3583  0.0573  0.2121  0.4330  0.4630\n",
       " 0.3446  0.4788  0.3007  0.0226  0.5548  0.1567\n",
       " 0.4759  0.3984  0.6510  0.5589 -0.1216  0.4036\n",
       "[torch.FloatTensor of size 4x16]"
      ]
     },
     "execution_count": 19,
     "metadata": {},
     "output_type": "execute_result"
    }
   ],
   "source": [
    "t.agent.l2.weight"
   ]
  },
  {
   "cell_type": "code",
   "execution_count": 20,
   "metadata": {},
   "outputs": [
    {
     "data": {
      "text/plain": [
       "<matplotlib.image.AxesImage at 0x2b46deb6da20>"
      ]
     },
     "execution_count": 20,
     "metadata": {},
     "output_type": "execute_result"
    },
    {
     "data": {
      "image/png": "[encoded data removed]",
      "text/plain": [
       "<matplotlib.figure.Figure at 0x2b46de9e8b38>"
      ]
     },
     "metadata": {},
     "output_type": "display_data"
    }
   ],
   "source": [
    "plt.matshow(t.agent.l2.weight.data.numpy())"
   ]
  },
  {
   "cell_type": "code",
   "execution_count": null,
   "metadata": {},
   "outputs": [],
   "source": []
  }
 ],
 "metadata": {
  "kernelspec": {
   "display_name": "Python [conda env:gan]",
   "language": "python",
   "name": "conda-env-gan-py"
  },
  "language_info": {
   "codemirror_mode": {
    "name": "ipython",
    "version": 3
   },
   "file_extension": ".py",
   "mimetype": "text/x-python",
   "name": "python",
   "nbconvert_exporter": "python",
   "pygments_lexer": "ipython3",
   "version": "3.5.4"
  }
 },
 "nbformat": 4,
 "nbformat_minor": 2
}
