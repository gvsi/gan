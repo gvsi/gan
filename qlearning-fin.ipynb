{
 "cells": [
  {
   "cell_type": "code",
   "execution_count": 1,
   "metadata": {
    "collapsed": true
   },
   "outputs": [],
   "source": [
    "import gym\n",
    "import numpy as np\n",
    "import random\n",
    "import matplotlib.pyplot as plt\n",
    "from gym.envs.registration import register, spec\n",
    "from gym import envs\n",
    "from tqdm import tqdm\n",
    "from datetime import datetime\n",
    "from json_tricks import dumps, loads\n",
    "%matplotlib inline"
   ]
  },
  {
   "cell_type": "code",
   "execution_count": 2,
   "metadata": {
    "collapsed": true
   },
   "outputs": [],
   "source": [
    "import random\n",
    "def generate(size=8, p=None):\n",
    "    if p == None or p == 0:\n",
    "        p = random.uniform(0.1, 1)\n",
    "    valid = False\n",
    "    def is_valid(arr, r=0, c=0):\n",
    "        if arr[r][c] == 'G':\n",
    "            return True\n",
    "        \n",
    "        tmp = arr[r][c]\n",
    "        arr[r][c] = \"#\"\n",
    "        \n",
    "        if r+1 < size and arr[r+1][c] not in '#H':\n",
    "            if is_valid(arr, r+1, c) == True:\n",
    "                arr[r][c] = tmp\n",
    "                return True\n",
    "        \n",
    "        if c+1 < size and arr[r][c+1] not in '#H':\n",
    "            if is_valid(arr, r, c+1) == True:\n",
    "                arr[r][c] = tmp\n",
    "                return True\n",
    "        \n",
    "        if r-1 >= 0 and arr[r-1][c] not in '#H':\n",
    "            if is_valid(arr, r-1, c) == True:\n",
    "                arr[r][c] = tmp\n",
    "                return True\n",
    "        \n",
    "        if c-1 >= 0 and arr[r][c-1] not in '#H':\n",
    "            if is_valid(arr,r, c-1) == True:\n",
    "                arr[r][c] = tmp\n",
    "                return True\n",
    "        arr[r][c] = tmp\n",
    "        return False\n",
    "\n",
    "    while not valid:\n",
    "        p = min(1, p)\n",
    "        res = np.random.choice(['F','H'], (size, size), p=[p, 1-p])\n",
    "        res[0][0] = 'S'\n",
    "        res[-1][-1] = 'G'\n",
    "        valid = is_valid(res)\n",
    "        p *= 1.05\n",
    "    return [\"\".join(x) for x in res]"
   ]
  },
  {
   "cell_type": "code",
   "execution_count": 3,
   "metadata": {
    "collapsed": true
   },
   "outputs": [],
   "source": [
    "def verify(env, Q, num_episodes = 10000):\n",
    "    # Set learning parameters\n",
    "    #create lists to contain total rewards and steps per episode\n",
    "    #jList = []\n",
    "    rList = []\n",
    "    for i in tqdm(range(num_episodes)):\n",
    "        #Reset environment and get first new observation\n",
    "        s = env.reset()\n",
    "        rAll = 0\n",
    "        d = False\n",
    "        j = 0\n",
    "        #The Q-Table learning algorithm\n",
    "        while j < 200:\n",
    "            j+=1\n",
    "            #Choose an action by greedily (with noise) picking from Q table\n",
    "            a = np.argmax(Q[s,:])\n",
    "            #Get new state and reward from environment\n",
    "            s1,r,d,_ = env.step(a)\n",
    "            rAll += r\n",
    "            s = s1\n",
    "            if d == True:\n",
    "                break\n",
    "        rList.append(rAll)\n",
    "    print(\"Score over time: \" +  str(sum(rList)/num_episodes))"
   ]
  },
  {
   "cell_type": "code",
   "execution_count": 4,
   "metadata": {
    "collapsed": true
   },
   "outputs": [],
   "source": [
    "def new_env(env_map, slippery=True, MY_ENV_NAME='FrozenLakeNonskid-v0'):\n",
    "    if MY_ENV_NAME in envs.registry.env_specs:\n",
    "        envs.registry.env_specs.pop(MY_ENV_NAME)\n",
    "\n",
    "    register(\n",
    "        id=MY_ENV_NAME,\n",
    "        entry_point='gym.envs.toy_text:FrozenLakeEnv',\n",
    "        kwargs={'is_slippery': slippery, 'desc': env_map},\n",
    "        max_episode_steps=100,\n",
    "        reward_threshold=0.78, # optimum = .8196\n",
    "    )\n",
    "    env = gym.make(MY_ENV_NAME)\n",
    "    return env"
   ]
  },
  {
   "cell_type": "code",
   "execution_count": 5,
   "metadata": {
    "collapsed": true
   },
   "outputs": [],
   "source": [
    "class Experiment(object):\n",
    "    def __init__(self, env, num_episodes=10000):\n",
    "        self.env = env\n",
    "        self.Q = np.zeros([self.env.observation_space.n, self.env.action_space.n])\n",
    "        self.num_episodes = num_episodes\n",
    "        self.done = False\n",
    "        self.score = None\n",
    "        self.start = None\n",
    "        self.end = None\n",
    "    \n",
    "    def print_score(self):\n",
    "        if not self.done:\n",
    "            print(\"Run first.\")\n",
    "            return\n",
    "        print(\"Score over time: \" +  str(self.score))\n",
    "        \n",
    "    def run(self):\n",
    "        if self.done:\n",
    "            print(\"Already done running\")\n",
    "            return\n",
    "        \n",
    "        self.start = datetime.now()\n",
    "        lr = .8\n",
    "        e = 0.1\n",
    "        y = .95\n",
    "        #create lists to contain total rewards and steps per episode\n",
    "        jList = []\n",
    "        rList = []\n",
    "        for i in tqdm(range(self.num_episodes)):\n",
    "            #Reset environment and get first new observation\n",
    "            s = self.env.reset()\n",
    "            rAll = 0\n",
    "            d = False\n",
    "            j = 0\n",
    "            #The Q-Table learning algorithm\n",
    "            while j < 200:\n",
    "                j+=1\n",
    "                #Choose an action by greedily (with noise) picking from Q table\n",
    "                a = None\n",
    "                if random.uniform(0,1) < e:\n",
    "                    a = self.env.action_space.sample()\n",
    "                else:\n",
    "                    a = np.argmax(self.Q[s,:])\n",
    "                #Get new state and reward from environment\n",
    "                s1,r,d,_ = self.env.step(a)\n",
    "                if d == True and r != 1:\n",
    "                    self.Q[s, a] -= 0.01\n",
    "                #Update Q-Table with new knowledge\n",
    "                self.Q[s,a] = self.Q[s,a] + lr*(r + y*np.max(self.Q[s1,:]) - self.Q[s,a])\n",
    "                rAll += r\n",
    "                s = s1\n",
    "                if d == True:\n",
    "                    #Reduce chance of random action as we train the model.\n",
    "        #             e = 1./((i/50) + 10)\n",
    "                    break\n",
    "            rList.append(rAll)\n",
    "        self.done = True\n",
    "        self.end = datetime.now()\n",
    "        self.score = sum(rList)/self.num_episodes\n",
    "        \n",
    "    def dumps(self):\n",
    "        if not self.done:\n",
    "            print(\"Run first.\")\n",
    "            return\n",
    "        \n",
    "        return dumps({'Q': self.Q, 'start': self.start, 'end': self.end, 'score': self.score, 'num_episodes': self.num_episodes})\n",
    "        "
   ]
  },
  {
   "cell_type": "code",
   "execution_count": 179,
   "metadata": {},
   "outputs": [
    {
     "name": "stderr",
     "output_type": "stream",
     "text": [
      "\n",
      "\n",
      "  0%|          | 0/10000 [00:00<?, ?it/s]\u001b[A\u001b[A\n",
      "\n",
      "  2%|▏         | 160/10000 [00:00<00:06, 1577.33it/s]\u001b[A\u001b[A\n",
      "\n"
     ]
    },
    {
     "name": "stdout",
     "output_type": "stream",
     "text": [
      "\n",
      "\u001b[41mS\u001b[0mFHFF\n",
      "FHFHF\n",
      "FFHFF\n",
      "FHHFH\n",
      "FFFFG\n"
     ]
    },
    {
     "name": "stderr",
     "output_type": "stream",
     "text": [
      "  4%|▎         | 361/10000 [00:00<00:05, 1793.84it/s]\u001b[A\u001b[A\n",
      "\n",
      "  6%|▌         | 555/10000 [00:00<00:05, 1841.00it/s]\u001b[A\u001b[A\n",
      "\n",
      "  7%|▋         | 741/10000 [00:00<00:05, 1844.38it/s]\u001b[A\u001b[A\n",
      "\n",
      "  9%|▉         | 927/10000 [00:00<00:04, 1846.76it/s]\u001b[A\u001b[A\n",
      "\n",
      " 11%|█         | 1091/10000 [00:00<00:04, 1811.11it/s]\u001b[A\u001b[A\n",
      "\n",
      " 13%|█▎        | 1285/10000 [00:00<00:04, 1828.62it/s]\u001b[A\u001b[A\n",
      "\n",
      " 15%|█▍        | 1482/10000 [00:00<00:04, 1845.34it/s]\u001b[A\u001b[A\n",
      "\n",
      " 17%|█▋        | 1690/10000 [00:00<00:04, 1870.74it/s]\u001b[A\u001b[A\n",
      "\n",
      " 19%|█▉        | 1876/10000 [00:01<00:04, 1862.42it/s]\u001b[A\u001b[A\n",
      "\n",
      " 21%|██        | 2060/10000 [00:01<00:04, 1859.90it/s]\u001b[A\u001b[A\n",
      "\n",
      " 23%|██▎       | 2278/10000 [00:01<00:04, 1885.33it/s]\u001b[A\u001b[A\n",
      "\n",
      " 25%|██▍       | 2476/10000 [00:01<00:03, 1891.85it/s]\u001b[A\u001b[A\n",
      "\n",
      " 27%|██▋       | 2671/10000 [00:01<00:03, 1895.12it/s]\u001b[A\u001b[A\n",
      "\n",
      " 29%|██▉       | 2895/10000 [00:01<00:03, 1917.90it/s]\u001b[A\u001b[A\n",
      "\n",
      "\u001b[A\u001b[A"
     ]
    },
    {
     "ename": "KeyboardInterrupt",
     "evalue": "",
     "output_type": "error",
     "traceback": [
      "\u001b[0;31m---------------------------------------------------------------------------\u001b[0m",
      "\u001b[0;31mKeyboardInterrupt\u001b[0m                         Traceback (most recent call last)",
      "\u001b[0;32m<ipython-input-179-bdeb05804cfc>\u001b[0m in \u001b[0;36m<module>\u001b[0;34m()\u001b[0m\n\u001b[1;32m      2\u001b[0m \u001b[0menv\u001b[0m\u001b[0;34m.\u001b[0m\u001b[0mrender\u001b[0m\u001b[0;34m(\u001b[0m\u001b[0;34m)\u001b[0m\u001b[0;34m\u001b[0m\u001b[0m\n\u001b[1;32m      3\u001b[0m \u001b[0mexp\u001b[0m \u001b[0;34m=\u001b[0m \u001b[0mExperiment\u001b[0m\u001b[0;34m(\u001b[0m\u001b[0menv\u001b[0m\u001b[0;34m,\u001b[0m \u001b[0mnum_episodes\u001b[0m\u001b[0;34m=\u001b[0m\u001b[0;36m10000\u001b[0m\u001b[0;34m)\u001b[0m\u001b[0;34m\u001b[0m\u001b[0m\n\u001b[0;32m----> 4\u001b[0;31m \u001b[0mexp\u001b[0m\u001b[0;34m.\u001b[0m\u001b[0mrun\u001b[0m\u001b[0;34m(\u001b[0m\u001b[0;34m)\u001b[0m\u001b[0;34m\u001b[0m\u001b[0m\n\u001b[0m",
      "\u001b[0;32m<ipython-input-178-143d55945c59>\u001b[0m in \u001b[0;36mrun\u001b[0;34m(self)\u001b[0m\n\u001b[1;32m     43\u001b[0m                     \u001b[0ma\u001b[0m \u001b[0;34m=\u001b[0m \u001b[0mnp\u001b[0m\u001b[0;34m.\u001b[0m\u001b[0margmax\u001b[0m\u001b[0;34m(\u001b[0m\u001b[0mself\u001b[0m\u001b[0;34m.\u001b[0m\u001b[0mQ\u001b[0m\u001b[0;34m[\u001b[0m\u001b[0ms\u001b[0m\u001b[0;34m,\u001b[0m\u001b[0;34m:\u001b[0m\u001b[0;34m]\u001b[0m\u001b[0;34m)\u001b[0m\u001b[0;34m\u001b[0m\u001b[0m\n\u001b[1;32m     44\u001b[0m                 \u001b[0;31m#Get new state and reward from environment\u001b[0m\u001b[0;34m\u001b[0m\u001b[0;34m\u001b[0m\u001b[0m\n\u001b[0;32m---> 45\u001b[0;31m                 \u001b[0ms1\u001b[0m\u001b[0;34m,\u001b[0m\u001b[0mr\u001b[0m\u001b[0;34m,\u001b[0m\u001b[0md\u001b[0m\u001b[0;34m,\u001b[0m\u001b[0m_\u001b[0m \u001b[0;34m=\u001b[0m \u001b[0mself\u001b[0m\u001b[0;34m.\u001b[0m\u001b[0menv\u001b[0m\u001b[0;34m.\u001b[0m\u001b[0mstep\u001b[0m\u001b[0;34m(\u001b[0m\u001b[0ma\u001b[0m\u001b[0;34m)\u001b[0m\u001b[0;34m\u001b[0m\u001b[0m\n\u001b[0m\u001b[1;32m     46\u001b[0m                 \u001b[0;32mif\u001b[0m \u001b[0md\u001b[0m \u001b[0;34m==\u001b[0m \u001b[0;32mTrue\u001b[0m \u001b[0;32mand\u001b[0m \u001b[0mr\u001b[0m \u001b[0;34m!=\u001b[0m \u001b[0;36m1\u001b[0m\u001b[0;34m:\u001b[0m\u001b[0;34m\u001b[0m\u001b[0m\n\u001b[1;32m     47\u001b[0m                     \u001b[0mself\u001b[0m\u001b[0;34m.\u001b[0m\u001b[0mQ\u001b[0m\u001b[0;34m[\u001b[0m\u001b[0ms\u001b[0m\u001b[0;34m,\u001b[0m \u001b[0ma\u001b[0m\u001b[0;34m]\u001b[0m \u001b[0;34m-=\u001b[0m \u001b[0;36m0.01\u001b[0m\u001b[0;34m\u001b[0m\u001b[0m\n",
      "\u001b[0;32m~/anaconda3/envs/gan/lib/python3.6/site-packages/gym/core.py\u001b[0m in \u001b[0;36mstep\u001b[0;34m(self, action)\u001b[0m\n\u001b[1;32m     94\u001b[0m             \u001b[0minfo\u001b[0m \u001b[0;34m(\u001b[0m\u001b[0mdict\u001b[0m\u001b[0;34m)\u001b[0m\u001b[0;34m:\u001b[0m \u001b[0mcontains\u001b[0m \u001b[0mauxiliary\u001b[0m \u001b[0mdiagnostic\u001b[0m \u001b[0minformation\u001b[0m \u001b[0;34m(\u001b[0m\u001b[0mhelpful\u001b[0m \u001b[0;32mfor\u001b[0m \u001b[0mdebugging\u001b[0m\u001b[0;34m,\u001b[0m \u001b[0;32mand\u001b[0m \u001b[0msometimes\u001b[0m \u001b[0mlearning\u001b[0m\u001b[0;34m)\u001b[0m\u001b[0;34m\u001b[0m\u001b[0m\n\u001b[1;32m     95\u001b[0m         \"\"\"\n\u001b[0;32m---> 96\u001b[0;31m         \u001b[0;32mreturn\u001b[0m \u001b[0mself\u001b[0m\u001b[0;34m.\u001b[0m\u001b[0m_step\u001b[0m\u001b[0;34m(\u001b[0m\u001b[0maction\u001b[0m\u001b[0;34m)\u001b[0m\u001b[0;34m\u001b[0m\u001b[0m\n\u001b[0m\u001b[1;32m     97\u001b[0m \u001b[0;34m\u001b[0m\u001b[0m\n\u001b[1;32m     98\u001b[0m     \u001b[0;32mdef\u001b[0m \u001b[0mreset\u001b[0m\u001b[0;34m(\u001b[0m\u001b[0mself\u001b[0m\u001b[0;34m)\u001b[0m\u001b[0;34m:\u001b[0m\u001b[0;34m\u001b[0m\u001b[0m\n",
      "\u001b[0;32m~/anaconda3/envs/gan/lib/python3.6/site-packages/gym/wrappers/time_limit.py\u001b[0m in \u001b[0;36m_step\u001b[0;34m(self, action)\u001b[0m\n\u001b[1;32m     34\u001b[0m     \u001b[0;32mdef\u001b[0m \u001b[0m_step\u001b[0m\u001b[0;34m(\u001b[0m\u001b[0mself\u001b[0m\u001b[0;34m,\u001b[0m \u001b[0maction\u001b[0m\u001b[0;34m)\u001b[0m\u001b[0;34m:\u001b[0m\u001b[0;34m\u001b[0m\u001b[0m\n\u001b[1;32m     35\u001b[0m         \u001b[0;32massert\u001b[0m \u001b[0mself\u001b[0m\u001b[0;34m.\u001b[0m\u001b[0m_episode_started_at\u001b[0m \u001b[0;32mis\u001b[0m \u001b[0;32mnot\u001b[0m \u001b[0;32mNone\u001b[0m\u001b[0;34m,\u001b[0m \u001b[0;34m\"Cannot call env.step() before calling reset()\"\u001b[0m\u001b[0;34m\u001b[0m\u001b[0m\n\u001b[0;32m---> 36\u001b[0;31m         \u001b[0mobservation\u001b[0m\u001b[0;34m,\u001b[0m \u001b[0mreward\u001b[0m\u001b[0;34m,\u001b[0m \u001b[0mdone\u001b[0m\u001b[0;34m,\u001b[0m \u001b[0minfo\u001b[0m \u001b[0;34m=\u001b[0m \u001b[0mself\u001b[0m\u001b[0;34m.\u001b[0m\u001b[0menv\u001b[0m\u001b[0;34m.\u001b[0m\u001b[0mstep\u001b[0m\u001b[0;34m(\u001b[0m\u001b[0maction\u001b[0m\u001b[0;34m)\u001b[0m\u001b[0;34m\u001b[0m\u001b[0m\n\u001b[0m\u001b[1;32m     37\u001b[0m         \u001b[0mself\u001b[0m\u001b[0;34m.\u001b[0m\u001b[0m_elapsed_steps\u001b[0m \u001b[0;34m+=\u001b[0m \u001b[0;36m1\u001b[0m\u001b[0;34m\u001b[0m\u001b[0m\n\u001b[1;32m     38\u001b[0m \u001b[0;34m\u001b[0m\u001b[0m\n",
      "\u001b[0;32m~/anaconda3/envs/gan/lib/python3.6/site-packages/gym/core.py\u001b[0m in \u001b[0;36mstep\u001b[0;34m(self, action)\u001b[0m\n\u001b[1;32m     94\u001b[0m             \u001b[0minfo\u001b[0m \u001b[0;34m(\u001b[0m\u001b[0mdict\u001b[0m\u001b[0;34m)\u001b[0m\u001b[0;34m:\u001b[0m \u001b[0mcontains\u001b[0m \u001b[0mauxiliary\u001b[0m \u001b[0mdiagnostic\u001b[0m \u001b[0minformation\u001b[0m \u001b[0;34m(\u001b[0m\u001b[0mhelpful\u001b[0m \u001b[0;32mfor\u001b[0m \u001b[0mdebugging\u001b[0m\u001b[0;34m,\u001b[0m \u001b[0;32mand\u001b[0m \u001b[0msometimes\u001b[0m \u001b[0mlearning\u001b[0m\u001b[0;34m)\u001b[0m\u001b[0;34m\u001b[0m\u001b[0m\n\u001b[1;32m     95\u001b[0m         \"\"\"\n\u001b[0;32m---> 96\u001b[0;31m         \u001b[0;32mreturn\u001b[0m \u001b[0mself\u001b[0m\u001b[0;34m.\u001b[0m\u001b[0m_step\u001b[0m\u001b[0;34m(\u001b[0m\u001b[0maction\u001b[0m\u001b[0;34m)\u001b[0m\u001b[0;34m\u001b[0m\u001b[0m\n\u001b[0m\u001b[1;32m     97\u001b[0m \u001b[0;34m\u001b[0m\u001b[0m\n\u001b[1;32m     98\u001b[0m     \u001b[0;32mdef\u001b[0m \u001b[0mreset\u001b[0m\u001b[0;34m(\u001b[0m\u001b[0mself\u001b[0m\u001b[0;34m)\u001b[0m\u001b[0;34m:\u001b[0m\u001b[0;34m\u001b[0m\u001b[0m\n",
      "\u001b[0;32m~/anaconda3/envs/gan/lib/python3.6/site-packages/gym/envs/toy_text/discrete.py\u001b[0m in \u001b[0;36m_step\u001b[0;34m(self, a)\u001b[0m\n\u001b[1;32m     53\u001b[0m     \u001b[0;32mdef\u001b[0m \u001b[0m_step\u001b[0m\u001b[0;34m(\u001b[0m\u001b[0mself\u001b[0m\u001b[0;34m,\u001b[0m \u001b[0ma\u001b[0m\u001b[0;34m)\u001b[0m\u001b[0;34m:\u001b[0m\u001b[0;34m\u001b[0m\u001b[0m\n\u001b[1;32m     54\u001b[0m         \u001b[0mtransitions\u001b[0m \u001b[0;34m=\u001b[0m \u001b[0mself\u001b[0m\u001b[0;34m.\u001b[0m\u001b[0mP\u001b[0m\u001b[0;34m[\u001b[0m\u001b[0mself\u001b[0m\u001b[0;34m.\u001b[0m\u001b[0ms\u001b[0m\u001b[0;34m]\u001b[0m\u001b[0;34m[\u001b[0m\u001b[0ma\u001b[0m\u001b[0;34m]\u001b[0m\u001b[0;34m\u001b[0m\u001b[0m\n\u001b[0;32m---> 55\u001b[0;31m         \u001b[0mi\u001b[0m \u001b[0;34m=\u001b[0m \u001b[0mcategorical_sample\u001b[0m\u001b[0;34m(\u001b[0m\u001b[0;34m[\u001b[0m\u001b[0mt\u001b[0m\u001b[0;34m[\u001b[0m\u001b[0;36m0\u001b[0m\u001b[0;34m]\u001b[0m \u001b[0;32mfor\u001b[0m \u001b[0mt\u001b[0m \u001b[0;32min\u001b[0m \u001b[0mtransitions\u001b[0m\u001b[0;34m]\u001b[0m\u001b[0;34m,\u001b[0m \u001b[0mself\u001b[0m\u001b[0;34m.\u001b[0m\u001b[0mnp_random\u001b[0m\u001b[0;34m)\u001b[0m\u001b[0;34m\u001b[0m\u001b[0m\n\u001b[0m\u001b[1;32m     56\u001b[0m         \u001b[0mp\u001b[0m\u001b[0;34m,\u001b[0m \u001b[0ms\u001b[0m\u001b[0;34m,\u001b[0m \u001b[0mr\u001b[0m\u001b[0;34m,\u001b[0m \u001b[0md\u001b[0m\u001b[0;34m=\u001b[0m \u001b[0mtransitions\u001b[0m\u001b[0;34m[\u001b[0m\u001b[0mi\u001b[0m\u001b[0;34m]\u001b[0m\u001b[0;34m\u001b[0m\u001b[0m\n\u001b[1;32m     57\u001b[0m         \u001b[0mself\u001b[0m\u001b[0;34m.\u001b[0m\u001b[0ms\u001b[0m \u001b[0;34m=\u001b[0m \u001b[0ms\u001b[0m\u001b[0;34m\u001b[0m\u001b[0m\n",
      "\u001b[0;31mKeyboardInterrupt\u001b[0m: "
     ]
    }
   ],
   "source": [
    "env = new_env(generate(size=5), slippery=True)\n",
    "env.render()\n",
    "exp = Experiment(env, num_episodes=10000)\n",
    "exp.run()"
   ]
  },
  {
   "cell_type": "code",
   "execution_count": 93,
   "metadata": {},
   "outputs": [
    {
     "data": {
      "text/plain": [
       "array([[ 1.13403430e-01,  1.24157253e-01,  1.15170664e-01,\n",
       "         1.14980244e-01],\n",
       "       [ 1.32869444e-01,  1.03705228e-01,  1.04004984e-01,\n",
       "         1.20668472e-01],\n",
       "       [ 1.02805442e-01,  2.76177404e-02,  2.39866922e-03,\n",
       "         2.07540066e-02],\n",
       "       [ 0.00000000e+00,  0.00000000e+00,  0.00000000e+00,\n",
       "         0.00000000e+00],\n",
       "       [ 5.75372869e-02, -7.34761724e-05,  3.26733945e-01,\n",
       "         2.09972176e-01],\n",
       "       [ 1.07181716e-01,  1.05431539e-01,  1.35149233e-01,\n",
       "         1.08948056e-01],\n",
       "       [ 1.28915708e-01,  1.03603595e-01,  1.34644319e-01,\n",
       "         1.32220850e-01],\n",
       "       [ 1.51431349e-01,  2.09230496e-01,  1.28551901e-01,\n",
       "         1.43137583e-01],\n",
       "       [ 5.07087424e-03,  2.20045751e-01,  2.77831319e-01,\n",
       "         1.70728835e-01],\n",
       "       [ 2.55323427e-01,  3.81878538e-01,  3.21695172e-01,\n",
       "         2.39223105e-01],\n",
       "       [ 1.21439276e-01,  1.30520828e-01,  1.19365222e-01,\n",
       "         1.50997860e-01],\n",
       "       [ 1.00805675e-01,  7.19266533e-02,  9.80214084e-02,\n",
       "         2.99909695e-01],\n",
       "       [ 1.11888490e-01,  9.14728995e-02,  7.91163178e-02,\n",
       "         5.21302806e-01],\n",
       "       [ 1.11044664e-02,  9.98259133e-02,  1.58152228e-02,\n",
       "         3.33462293e-01],\n",
       "       [ 3.55739843e-01,  6.00814791e-01,  4.11174849e-01,\n",
       "         3.94192696e-01],\n",
       "       [ 1.29388889e-01,  4.43398017e-02,  3.23249716e-02,\n",
       "         5.16976102e-02],\n",
       "       [ 7.58696753e-03,  6.29249630e-03,  2.94595623e-03,\n",
       "         1.01808025e-01],\n",
       "       [ 7.93653859e-03, -8.60185720e-04, -1.29418321e-03,\n",
       "        -1.45147323e-03],\n",
       "       [ 0.00000000e+00,  0.00000000e+00,  0.00000000e+00,\n",
       "         0.00000000e+00],\n",
       "       [ 1.27616495e-01,  9.68028087e-02,  9.56198617e-01,\n",
       "         1.32307214e-01],\n",
       "       [ 8.88742197e-02,  1.05058770e-03,  1.26069324e-02,\n",
       "         6.13137575e-04],\n",
       "       [ 0.00000000e+00,  0.00000000e+00,  0.00000000e+00,\n",
       "         0.00000000e+00],\n",
       "       [ 0.00000000e+00,  0.00000000e+00,  0.00000000e+00,\n",
       "         0.00000000e+00],\n",
       "       [ 0.00000000e+00,  0.00000000e+00,  0.00000000e+00,\n",
       "         0.00000000e+00],\n",
       "       [ 0.00000000e+00,  0.00000000e+00,  0.00000000e+00,\n",
       "         0.00000000e+00]])"
      ]
     },
     "execution_count": 93,
     "metadata": {},
     "output_type": "execute_result"
    }
   ],
   "source": [
    "exp.Q"
   ]
  },
  {
   "cell_type": "code",
   "execution_count": 94,
   "metadata": {},
   "outputs": [
    {
     "name": "stderr",
     "output_type": "stream",
     "text": [
      "100%|██████████| 10000/10000 [00:04<00:00, 2219.28it/s]"
     ]
    },
    {
     "name": "stdout",
     "output_type": "stream",
     "text": [
      "Score over time: 0.3522\n"
     ]
    },
    {
     "name": "stderr",
     "output_type": "stream",
     "text": [
      "\n"
     ]
    }
   ],
   "source": [
    "verify(exp.env, exp.Q)"
   ]
  },
  {
   "cell_type": "code",
   "execution_count": 10,
   "metadata": {
    "collapsed": true
   },
   "outputs": [],
   "source": [
    "experiments = {}"
   ]
  },
  {
   "cell_type": "code",
   "execution_count": 11,
   "metadata": {},
   "outputs": [
    {
     "name": "stderr",
     "output_type": "stream",
     "text": [
      "100%|██████████| 10000/10000 [00:04<00:00, 2146.10it/s]\n",
      "100%|██████████| 10000/10000 [00:05<00:00, 1829.96it/s]\n",
      "100%|██████████| 10000/10000 [00:04<00:00, 2074.35it/s]\n",
      "100%|██████████| 10000/10000 [00:07<00:00, 1378.86it/s]\n",
      "100%|██████████| 10000/10000 [00:04<00:00, 2103.69it/s]\n",
      "100%|██████████| 10000/10000 [00:09<00:00, 1010.82it/s]\n",
      "100%|██████████| 10000/10000 [00:05<00:00, 1793.54it/s]\n",
      "100%|██████████| 10000/10000 [00:05<00:00, 1790.02it/s]\n",
      "100%|██████████| 10000/10000 [00:09<00:00, 1095.81it/s]\n",
      "100%|██████████| 10000/10000 [00:02<00:00, 3454.02it/s]\n",
      "100%|██████████| 10000/10000 [00:08<00:00, 1245.92it/s]\n",
      "100%|██████████| 10000/10000 [00:01<00:00, 5019.58it/s]\n",
      "100%|██████████| 10000/10000 [00:02<00:00, 4044.23it/s]\n",
      "100%|██████████| 10000/10000 [00:04<00:00, 2135.58it/s]\n",
      "100%|██████████| 10000/10000 [00:04<00:00, 2262.01it/s]\n",
      "100%|██████████| 10000/10000 [00:02<00:00, 3985.36it/s]\n",
      "100%|██████████| 10000/10000 [00:08<00:00, 1206.96it/s]\n",
      "100%|██████████| 10000/10000 [00:04<00:00, 2380.85it/s]\n",
      "100%|██████████| 10000/10000 [00:08<00:00, 1205.61it/s]\n",
      "100%|██████████| 10000/10000 [00:02<00:00, 4763.21it/s]\n"
     ]
    }
   ],
   "source": [
    "while len(experiments) < 20:\n",
    "    map_str = generate(size=5)\n",
    "    joined_map_str = \"\".join(map_str)\n",
    "    if joined_map_str in experiments:\n",
    "        continue\n",
    "        \n",
    "    env = new_env(map_str, slippery=True)\n",
    "    # env.render()\n",
    "    exp = Experiment(env, num_episodes=10000)\n",
    "    exp.run()\n",
    "    experiments[joined_map_str] = exp"
   ]
  },
  {
   "cell_type": "code",
   "execution_count": 114,
   "metadata": {},
   "outputs": [
    {
     "data": {
      "text/plain": [
       "[(0, 0.0061),\n",
       " (1, 0.0656),\n",
       " (2, 0.0102),\n",
       " (3, 0.083),\n",
       " (4, 0.91),\n",
       " (5, 0.0534),\n",
       " (6, 0.421),\n",
       " (7, 0.0402),\n",
       " (8, 0.03),\n",
       " (9, 0.0053),\n",
       " (10, 0.4673),\n",
       " (11, 0.1148),\n",
       " (12, 0.0842),\n",
       " (13, 0.4291),\n",
       " (14, 0.0277),\n",
       " (15, 0.2895),\n",
       " (16, 0.0168),\n",
       " (17, 0.0713),\n",
       " (18, 0.0243),\n",
       " (19, 0.045),\n",
       " (20, 0.0466),\n",
       " (21, 0.2706),\n",
       " (22, 0.6676),\n",
       " (23, 0.4577),\n",
       " (24, 0.3788),\n",
       " (25, 0.0013),\n",
       " (26, 0.3242),\n",
       " (27, 0.028),\n",
       " (28, 0.0266),\n",
       " (29, 0.0851),\n",
       " (30, 0.0306),\n",
       " (31, 0.0041),\n",
       " (32, 0.0128),\n",
       " (33, 0.0211),\n",
       " (34, 0.319),\n",
       " (35, 0.632),\n",
       " (36, 0.0832),\n",
       " (37, 0.1791),\n",
       " (38, 0.0231),\n",
       " (39, 0.0106),\n",
       " (40, 0.0427),\n",
       " (41, 0.1555),\n",
       " (42, 0.1205),\n",
       " (43, 0.0294),\n",
       " (44, 0.4255),\n",
       " (45, 0.0021),\n",
       " (46, 0.0614),\n",
       " (47, 0.6085),\n",
       " (48, 0.6736),\n",
       " (49, 0.0163),\n",
       " (50, 0.1488),\n",
       " (51, 0.0043),\n",
       " (52, 0.5059),\n",
       " (53, 0.2764),\n",
       " (54, 0.4988),\n",
       " (55, 0.2611),\n",
       " (56, 0.0161),\n",
       " (57, 0.0152),\n",
       " (58, 0.0321),\n",
       " (59, 0.0192),\n",
       " (60, 0.1253),\n",
       " (61, 0.2066),\n",
       " (62, 0.1137),\n",
       " (63, 0.0021),\n",
       " (64, 0.7011),\n",
       " (65, 0.0666),\n",
       " (66, 0.6482),\n",
       " (67, 0.3386),\n",
       " (68, 0.001),\n",
       " (69, 0.1009),\n",
       " (70, 0.0139),\n",
       " (71, 0.1903),\n",
       " (72, 0.5698),\n",
       " (73, 0.0159),\n",
       " (74, 0.1064),\n",
       " (75, 0.1643),\n",
       " (76, 0.0395),\n",
       " (77, 0.1277),\n",
       " (78, 0.4901),\n",
       " (79, 0.0359),\n",
       " (80, 0.0049),\n",
       " (81, 0.0432),\n",
       " (82, 0.0488),\n",
       " (83, 0.0958),\n",
       " (84, 0.2548),\n",
       " (85, 0.1185),\n",
       " (86, 0.0268),\n",
       " (87, 0.0172),\n",
       " (88, 0.6999),\n",
       " (89, 0.0016),\n",
       " (90, 0.0094),\n",
       " (91, 0.6291),\n",
       " (92, 0.0104),\n",
       " (93, 0.2067),\n",
       " (94, 0.1322),\n",
       " (95, 0.3762),\n",
       " (96, 0.0164),\n",
       " (97, 0.2955),\n",
       " (98, 0.0331),\n",
       " (99, 0.122)]"
      ]
     },
     "execution_count": 114,
     "metadata": {},
     "output_type": "execute_result"
    }
   ],
   "source": [
    "import sys\n",
    "[(i, exp.score) for (i, exp) in enumerate(experiments.values())]"
   ]
  },
  {
   "cell_type": "code",
   "execution_count": null,
   "metadata": {
    "collapsed": true
   },
   "outputs": [],
   "source": [
    "[exp.Q for (i, exp) in enumerate(experiments.values())]"
   ]
  },
  {
   "cell_type": "code",
   "execution_count": 13,
   "metadata": {
    "collapsed": true
   },
   "outputs": [],
   "source": [
    "experiments = set()"
   ]
  },
  {
   "cell_type": "code",
   "execution_count": 75,
   "metadata": {},
   "outputs": [
    {
     "name": "stdout",
     "output_type": "stream",
     "text": [
      "CPU times: user 24min 57s, sys: 6.11 s, total: 25min 3s\n",
      "Wall time: 25min 10s\n"
     ]
    }
   ],
   "source": [
    "%%time\n",
    "# while len(experiments) < 4000:\n",
    "for i in range(50000*80):\n",
    "    map_str = generate(size=5,p=0.5)\n",
    "    joined_map_str = \"\".join(map_str)\n",
    "    experiments.add(joined_map_str)"
   ]
  },
  {
   "cell_type": "code",
   "execution_count": 86,
   "metadata": {},
   "outputs": [
    {
     "name": "stdout",
     "output_type": "stream",
     "text": [
      "1120610\n"
     ]
    }
   ],
   "source": [
    "print(len(experiments))\n",
    "# experiments"
   ]
  },
  {
   "cell_type": "code",
   "execution_count": 85,
   "metadata": {},
   "outputs": [
    {
     "data": {
      "text/plain": [
       "1120610"
      ]
     },
     "execution_count": 85,
     "metadata": {},
     "output_type": "execute_result"
    }
   ],
   "source": []
  },
  {
   "cell_type": "code",
   "execution_count": 87,
   "metadata": {
    "collapsed": true
   },
   "outputs": [],
   "source": [
    "f = open('dump.txt','w')\n",
    "f.write(\"\\n\".join(experiments))\n",
    "f.close()"
   ]
  },
  {
   "cell_type": "code",
   "execution_count": 6,
   "metadata": {
    "collapsed": true
   },
   "outputs": [],
   "source": [
    "experiments = set()"
   ]
  },
  {
   "cell_type": "code",
   "execution_count": 18,
   "metadata": {},
   "outputs": [
    {
     "name": "stdout",
     "output_type": "stream",
     "text": [
      "CPU times: user 7.59 s, sys: 85 ms, total: 7.67 s\n",
      "Wall time: 7.76 s\n"
     ]
    }
   ],
   "source": [
    "%%time\n",
    "# while len(experiments) < 3828:\n",
    "for i in range(10000):\n",
    "    map_str = generate(size=4,p=0.2)\n",
    "    joined_map_str = \"\".join(map_str)\n",
    "    experiments.add(joined_map_str)"
   ]
  },
  {
   "cell_type": "code",
   "execution_count": 19,
   "metadata": {},
   "outputs": [
    {
     "data": {
      "text/plain": [
       "3828"
      ]
     },
     "execution_count": 19,
     "metadata": {},
     "output_type": "execute_result"
    }
   ],
   "source": [
    "len(experiments)"
   ]
  },
  {
   "cell_type": "code",
   "execution_count": null,
   "metadata": {
    "collapsed": true
   },
   "outputs": [],
   "source": []
  }
 ],
 "metadata": {
  "kernelspec": {
   "display_name": "Python (gan)",
   "language": "python",
   "name": "gan"
  },
  "language_info": {
   "codemirror_mode": {
    "name": "ipython",
    "version": 3
   },
   "file_extension": ".py",
   "mimetype": "text/x-python",
   "name": "python",
   "nbconvert_exporter": "python",
   "pygments_lexer": "ipython3",
   "version": "3.6.4"
  }
 },
 "nbformat": 4,
 "nbformat_minor": 2
}
