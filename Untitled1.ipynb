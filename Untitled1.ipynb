{
 "cells": [
  {
   "cell_type": "code",
   "execution_count": 2,
   "metadata": {},
   "outputs": [],
   "source": [
    "import numpy as np"
   ]
  },
  {
   "cell_type": "code",
   "execution_count": 3,
   "metadata": {},
   "outputs": [],
   "source": [
    "MAPS = {\n",
    "    \"4x4\": [\n",
    "        \"SFFF\",\n",
    "        \"FHFH\",\n",
    "        \"FFFH\",\n",
    "        \"HFFG\"\n",
    "    ],\n",
    "    \"8x8\": [\n",
    "        \"SFFFFFFF\",\n",
    "        \"FFFFFFFF\",\n",
    "        \"FFFHFFFF\",\n",
    "        \"FFFFFHFF\",\n",
    "        \"FFFHFFFF\",\n",
    "        \"FHHFFFHF\",\n",
    "        \"FHFFHFHF\",\n",
    "        \"FFFHFFFG\"\n",
    "    ],\n",
    "}"
   ]
  },
  {
   "cell_type": "code",
   "execution_count": 4,
   "metadata": {},
   "outputs": [
    {
     "data": {
      "text/plain": [
       "array([[b'S', b'F', b'F', b'F', b'F', b'F', b'F', b'F'],\n",
       "       [b'F', b'F', b'F', b'F', b'F', b'F', b'F', b'F'],\n",
       "       [b'F', b'F', b'F', b'H', b'F', b'F', b'F', b'F'],\n",
       "       [b'F', b'F', b'F', b'F', b'F', b'H', b'F', b'F'],\n",
       "       [b'F', b'F', b'F', b'H', b'F', b'F', b'F', b'F'],\n",
       "       [b'F', b'H', b'H', b'F', b'F', b'F', b'H', b'F'],\n",
       "       [b'F', b'H', b'F', b'F', b'H', b'F', b'H', b'F'],\n",
       "       [b'F', b'F', b'F', b'H', b'F', b'F', b'F', b'G']], \n",
       "      dtype='|S1')"
      ]
     },
     "execution_count": 4,
     "metadata": {},
     "output_type": "execute_result"
    }
   ],
   "source": [
    "np.asarray(MAPS[\"8x8\"],dtype='c')"
   ]
  },
  {
   "cell_type": "code",
   "execution_count": 18,
   "metadata": {},
   "outputs": [],
   "source": [
    "import random\n",
    "def generate(size=8, p=0.3):\n",
    "    valid = False\n",
    "    def is_valid(arr, r=0, c=0):\n",
    "        if arr[r][c] == 'G':\n",
    "            return True\n",
    "        \n",
    "        tmp = arr[r][c]\n",
    "        arr[r][c] = \"#\"\n",
    "        \n",
    "        if r+1 < size and arr[r+1][c] not in '#H':\n",
    "            if is_valid(arr, r+1, c) == True:\n",
    "                arr[r][c] = tmp\n",
    "                return True\n",
    "        \n",
    "        if c+1 < size and arr[r][c+1] not in '#H':\n",
    "            if is_valid(arr, r, c+1) == True:\n",
    "                arr[r][c] = tmp\n",
    "                return True\n",
    "        \n",
    "        if r-1 >= 0 and arr[r-1][c] not in '#H':\n",
    "            if is_valid(arr, r-1, c) == True:\n",
    "                arr[r][c] = tmp\n",
    "                return True\n",
    "        \n",
    "        if c-1 >= 0 and arr[r][c-1] not in '#H':\n",
    "            if is_valid(arr,r, c-1) == True:\n",
    "                arr[r][c] = tmp\n",
    "                return True\n",
    "        arr[r][c] = tmp\n",
    "        return False\n",
    "\n",
    "    while not valid:\n",
    "        p = min(1, p)\n",
    "        res = np.random.choice(['F','H'], (size, size), p=[p, 1-p])\n",
    "        res[0][0] = 'S'\n",
    "        res[-1][-1] = 'G'\n",
    "        valid = is_valid(res)\n",
    "        p *= 1.1\n",
    "        print(p)\n",
    "    return [\"\".join(x) for x in res]"
   ]
  },
  {
   "cell_type": "code",
   "execution_count": 19,
   "metadata": {},
   "outputs": [
    {
     "name": "stdout",
     "output_type": "stream",
     "text": [
      "0.33\n",
      "0.36300000000000004\n",
      "0.3993000000000001\n",
      "0.4392300000000001\n",
      "0.48315300000000017\n",
      "0.5314683000000002\n",
      "0.5846151300000003\n"
     ]
    },
    {
     "data": {
      "text/plain": [
       "['SFHHHFFH',\n",
       " 'HFFHFFFF',\n",
       " 'HFHFHHFF',\n",
       " 'HFFHHFHH',\n",
       " 'FFFFHFFH',\n",
       " 'HFFFHFHF',\n",
       " 'FHFFHFFF',\n",
       " 'FHHFFFFG']"
      ]
     },
     "execution_count": 19,
     "metadata": {},
     "output_type": "execute_result"
    }
   ],
   "source": [
    "generate()"
   ]
  },
  {
   "cell_type": "code",
   "execution_count": null,
   "metadata": {},
   "outputs": [],
   "source": []
  }
 ],
 "metadata": {
  "kernelspec": {
   "display_name": "Python [conda env:gan]",
   "language": "python",
   "name": "conda-env-gan-py"
  },
  "language_info": {
   "codemirror_mode": {
    "name": "ipython",
    "version": 3
   },
   "file_extension": ".py",
   "mimetype": "text/x-python",
   "name": "python",
   "nbconvert_exporter": "python",
   "pygments_lexer": "ipython3",
   "version": "3.5.4"
  }
 },
 "nbformat": 4,
 "nbformat_minor": 2
}
